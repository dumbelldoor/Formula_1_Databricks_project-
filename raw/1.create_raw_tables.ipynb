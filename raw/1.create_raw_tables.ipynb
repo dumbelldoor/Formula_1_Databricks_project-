{
 "cells": [
  {
   "cell_type": "code",
   "execution_count": 0,
   "metadata": {
    "application/vnd.databricks.v1+cell": {
     "cellMetadata": {
      "byteLimit": 2048000,
      "rowLimit": 10000
     },
     "inputWidgets": {},
     "nuid": "7ceb993f-f8ff-41fb-aba7-37335024012d",
     "showTitle": false,
     "tableResultSettingsMap": {},
     "title": ""
    }
   },
   "outputs": [],
   "source": [
    "CREATE DATABASE f1_raw;"
   ]
  },
  {
   "cell_type": "markdown",
   "metadata": {
    "application/vnd.databricks.v1+cell": {
     "cellMetadata": {},
     "inputWidgets": {},
     "nuid": "205aed2f-d91a-44a6-b8bf-bdcb12584c1e",
     "showTitle": false,
     "tableResultSettingsMap": {},
     "title": ""
    }
   },
   "source": [
    "## Create Circuits Table"
   ]
  },
  {
   "cell_type": "code",
   "execution_count": 0,
   "metadata": {
    "application/vnd.databricks.v1+cell": {
     "cellMetadata": {},
     "inputWidgets": {},
     "nuid": "ed0de3ee-90f1-4869-a207-5c32d96c85ab",
     "showTitle": false,
     "tableResultSettingsMap": {},
     "title": ""
    }
   },
   "outputs": [],
   "source": []
  },
  {
   "cell_type": "code",
   "execution_count": 0,
   "metadata": {
    "application/vnd.databricks.v1+cell": {
     "cellMetadata": {
      "byteLimit": 2048000,
      "rowLimit": 10000
     },
     "inputWidgets": {},
     "nuid": "47f962c9-98b2-4476-8974-87f11f17a964",
     "showTitle": false,
     "tableResultSettingsMap": {},
     "title": ""
    }
   },
   "outputs": [],
   "source": [
    "DROP TABLE IF EXISTS f1_raw.circuits;\n",
    "CREATE TABLE IF NOT EXISTS f1_raw.circuits(\n",
    "  circuit_id INT,\n",
    "  name String,\n",
    "  location String,\n",
    "  country String,\n",
    "  lat Double,\n",
    "  lng Double,\n",
    "  alt INT,\n",
    "  url String\n",
    ")\n",
    "USING csv\n",
    "OPTIONS (path \"/mnt/databricks101course/raw/circuits.csv\", header true)"
   ]
  },
  {
   "cell_type": "code",
   "execution_count": 0,
   "metadata": {
    "application/vnd.databricks.v1+cell": {
     "cellMetadata": {
      "byteLimit": 2048000,
      "rowLimit": 10000
     },
     "inputWidgets": {},
     "nuid": "b69ba16a-21ca-4d0a-8cf1-a9ee51cc6d3a",
     "showTitle": false,
     "tableResultSettingsMap": {},
     "title": ""
    }
   },
   "outputs": [],
   "source": [
    "SELECT * FROM f1_raw.circuits;"
   ]
  },
  {
   "cell_type": "code",
   "execution_count": 0,
   "metadata": {
    "application/vnd.databricks.v1+cell": {
     "cellMetadata": {
      "byteLimit": 2048000,
      "rowLimit": 10000
     },
     "inputWidgets": {},
     "nuid": "608e7574-1207-4c19-b35f-73b3e6ca2228",
     "showTitle": false,
     "tableResultSettingsMap": {},
     "title": ""
    }
   },
   "outputs": [],
   "source": [
    "DROP TABLE IF EXISTS f1_raw.races;\n",
    "CREATE TABLE IF NOT EXISTS f1_raw.races(\n",
    "  raceId INT,\n",
    "  year INT,\n",
    "  circuitId INT,\n",
    "  name String,\n",
    "  date DATE,\n",
    "  time STRING,\n",
    "  url STRING\n",
    ")\n",
    "USING CSV\n",
    "OPTIONS (path \"/mnt/databricks101course/raw/races.csv\", header true)"
   ]
  },
  {
   "cell_type": "code",
   "execution_count": 0,
   "metadata": {
    "application/vnd.databricks.v1+cell": {
     "cellMetadata": {
      "byteLimit": 2048000,
      "rowLimit": 10000
     },
     "inputWidgets": {},
     "nuid": "b769dfc9-143f-449a-aa01-a51c451599de",
     "showTitle": false,
     "tableResultSettingsMap": {},
     "title": ""
    }
   },
   "outputs": [],
   "source": [
    "SELECT * FROM f1_raw.races;"
   ]
  },
  {
   "cell_type": "markdown",
   "metadata": {
    "application/vnd.databricks.v1+cell": {
     "cellMetadata": {},
     "inputWidgets": {},
     "nuid": "2e01f387-b271-4a66-8bfa-8db70d2202ce",
     "showTitle": false,
     "tableResultSettingsMap": {},
     "title": ""
    }
   },
   "source": [
    "\n",
    "# Handling JSON files"
   ]
  },
  {
   "cell_type": "markdown",
   "metadata": {
    "application/vnd.databricks.v1+cell": {
     "cellMetadata": {},
     "inputWidgets": {},
     "nuid": "a4b7b6b0-dd21-4791-a01b-5a033a976a7f",
     "showTitle": false,
     "tableResultSettingsMap": {},
     "title": ""
    }
   },
   "source": [
    "\n",
    "# CREATE drivers table"
   ]
  },
  {
   "cell_type": "code",
   "execution_count": 0,
   "metadata": {
    "application/vnd.databricks.v1+cell": {
     "cellMetadata": {
      "byteLimit": 2048000,
      "rowLimit": 10000
     },
     "inputWidgets": {},
     "nuid": "0ff1ea58-58a4-4f95-b946-8c2ee6e290c8",
     "showTitle": false,
     "tableResultSettingsMap": {},
     "title": ""
    }
   },
   "outputs": [],
   "source": [
    "DROP TABLE IF EXISTS f1_raw.drivers;\n",
    "CREATE TABLE IF NOT EXISTS f1_raw.drivers(\n",
    "  driverId INT,\n",
    "  driverRef STRING,\n",
    "  number INT,\n",
    "  code STRING,\n",
    "  name STRUCT<forename: STRING,  surname: STRING>,\n",
    "  dob DATE,\n",
    "  nationality STRING,\n",
    "  url STRING\n",
    ")\n",
    "USING json\n",
    "OPTIONS (path \"/mnt/databricks101course/raw/drivers.json\", header true)"
   ]
  },
  {
   "cell_type": "code",
   "execution_count": 0,
   "metadata": {
    "application/vnd.databricks.v1+cell": {
     "cellMetadata": {
      "byteLimit": 2048000,
      "rowLimit": 10000
     },
     "inputWidgets": {},
     "nuid": "a06ee7a4-e10b-41d3-8ff2-0c0f18ef6f27",
     "showTitle": false,
     "tableResultSettingsMap": {},
     "title": ""
    }
   },
   "outputs": [],
   "source": [
    "SELECT * FROM f1_raw.drivers;\n"
   ]
  },
  {
   "cell_type": "code",
   "execution_count": 0,
   "metadata": {
    "application/vnd.databricks.v1+cell": {
     "cellMetadata": {
      "byteLimit": 2048000,
      "rowLimit": 10000
     },
     "inputWidgets": {},
     "nuid": "e295ffe3-bbda-4270-90c8-28a59f40f0f4",
     "showTitle": false,
     "tableResultSettingsMap": {},
     "title": ""
    }
   },
   "outputs": [],
   "source": [
    "DROP TABLE IF EXISTS f1_raw.results;\n",
    "CREATE TABLE IF NOT EXISTS f1_raw.results(\n",
    "  resultId INT,\n",
    "  raceId INT,\n",
    "  driverId INT,\n",
    "  constructorId INT,\n",
    "  number INT,\n",
    "  grid INT,\n",
    "  position INT,\n",
    "  positionText STRING,\n",
    "  positionOrder INT,\n",
    "  points FLOAT,\n",
    "  laps INT,\n",
    "  time STRING,\n",
    "  milliseconds INT,\n",
    "  fastestLap INT,\n",
    "  rank INT,\n",
    "  fastestLapTime STRING,\n",
    "  fastestLapSpeed FLOAT,\n",
    "  statusId INT\n",
    ")\n",
    "USING json\n",
    "OPTIONS (path \"/mnt/databricks101course/raw/results.json\", header true)"
   ]
  },
  {
   "cell_type": "code",
   "execution_count": 0,
   "metadata": {
    "application/vnd.databricks.v1+cell": {
     "cellMetadata": {
      "byteLimit": 2048000,
      "rowLimit": 10000
     },
     "inputWidgets": {},
     "nuid": "21857d14-bb27-4d01-bf81-4f4a42adc3d5",
     "showTitle": false,
     "tableResultSettingsMap": {},
     "title": ""
    }
   },
   "outputs": [],
   "source": [
    "SELECT * FROM f1_raw.results;"
   ]
  },
  {
   "cell_type": "code",
   "execution_count": 0,
   "metadata": {
    "application/vnd.databricks.v1+cell": {
     "cellMetadata": {
      "byteLimit": 2048000,
      "rowLimit": 10000
     },
     "inputWidgets": {},
     "nuid": "749be9fc-3d86-4131-82bb-8c174fda3e72",
     "showTitle": false,
     "tableResultSettingsMap": {},
     "title": ""
    }
   },
   "outputs": [],
   "source": [
    "DROP TABLE IF EXISTS f1_raw.pit_stops;\n",
    "CREATE TABLE IF NOT EXISTS f1_raw.pit_stops(\n",
    "raceId INT,\n",
    "driverId INT,\n",
    "stop STRING,\n",
    "lap INT,\n",
    "time STRING,\n",
    "duration STRING,\n",
    "milliseconds INT\n",
    ")\n",
    "USING json \n",
    "OPTIONS (path \"/mnt/databricks101course/raw/pit_stops.json\", multiline true)"
   ]
  },
  {
   "cell_type": "code",
   "execution_count": 0,
   "metadata": {
    "application/vnd.databricks.v1+cell": {
     "cellMetadata": {
      "byteLimit": 2048000,
      "rowLimit": 10000
     },
     "inputWidgets": {},
     "nuid": "25e993d4-4399-4462-b0bf-8cb470171ce2",
     "showTitle": false,
     "tableResultSettingsMap": {},
     "title": ""
    }
   },
   "outputs": [],
   "source": [
    "SELECT * FROM f1_raw.pit_stops;"
   ]
  },
  {
   "cell_type": "markdown",
   "metadata": {
    "application/vnd.databricks.v1+cell": {
     "cellMetadata": {},
     "inputWidgets": {},
     "nuid": "c3ada8a8-7d8f-40f2-ba6d-6ccc06aec9d5",
     "showTitle": false,
     "tableResultSettingsMap": {},
     "title": ""
    }
   },
   "source": [
    "## Working with multiple CSV and JSON Files"
   ]
  },
  {
   "cell_type": "code",
   "execution_count": 0,
   "metadata": {
    "application/vnd.databricks.v1+cell": {
     "cellMetadata": {
      "byteLimit": 2048000,
      "rowLimit": 10000
     },
     "inputWidgets": {},
     "nuid": "d0cf3b9b-f15b-4272-b960-9183c7914aca",
     "showTitle": false,
     "tableResultSettingsMap": {},
     "title": ""
    }
   },
   "outputs": [],
   "source": [
    "DROP TABLE IF EXISTS f1_raw.lap_times;\n",
    "CREATE TABLE IF NOT EXISTS f1_raw.lap_times(\n",
    "  raceId INT,\n",
    "  driverId INT,\n",
    "  lap INT,\n",
    "  position INT,\n",
    "  time STRING,\n",
    "  milliseconds INT\n",
    ")\n",
    "USING CSV\n",
    "OPTIONS (path \"/mnt/databricks101course/raw/lap_times\")"
   ]
  },
  {
   "cell_type": "code",
   "execution_count": 0,
   "metadata": {
    "application/vnd.databricks.v1+cell": {
     "cellMetadata": {
      "byteLimit": 2048000,
      "rowLimit": 10000
     },
     "inputWidgets": {},
     "nuid": "e93da655-6a32-4614-a69f-135a706d1fe5",
     "showTitle": false,
     "tableResultSettingsMap": {},
     "title": ""
    }
   },
   "outputs": [],
   "source": [
    "SELECT * FROM f1_raw.lap_times;"
   ]
  },
  {
   "cell_type": "code",
   "execution_count": 0,
   "metadata": {
    "application/vnd.databricks.v1+cell": {
     "cellMetadata": {
      "byteLimit": 2048000,
      "rowLimit": 10000
     },
     "inputWidgets": {},
     "nuid": "343b93fd-ab0b-41af-b2a8-76bc45fc2340",
     "showTitle": false,
     "tableResultSettingsMap": {},
     "title": ""
    }
   },
   "outputs": [],
   "source": [
    "DROP TABLE IF EXISTS f1_raw.qulaifying;\n",
    "CREATE TABLE IF NOT EXISTS f1_raw.qulaifying(\n",
    "  constructorId INT,\n",
    "  driverId INT,\n",
    "  number INT,\n",
    "  position INT,\n",
    "  q1 STRING,\n",
    "  q2 STRING,\n",
    "  q3 STRING,\n",
    "  qualifyId INT,\n",
    "  raceId INT\n",
    ")\n",
    "USING JSON\n",
    "OPTIONS (path '/mnt/databricks101course/raw/qualifying', multiLine true)"
   ]
  },
  {
   "cell_type": "code",
   "execution_count": 0,
   "metadata": {
    "application/vnd.databricks.v1+cell": {
     "cellMetadata": {
      "byteLimit": 2048000,
      "rowLimit": 10000
     },
     "inputWidgets": {},
     "nuid": "0ed5a9e3-f983-437a-8e0b-3ee922dac822",
     "showTitle": false,
     "tableResultSettingsMap": {},
     "title": ""
    }
   },
   "outputs": [],
   "source": [
    "SELECT * FROM f1_raw.qulaifying;"
   ]
  },
  {
   "cell_type": "code",
   "execution_count": 0,
   "metadata": {
    "application/vnd.databricks.v1+cell": {
     "cellMetadata": {},
     "inputWidgets": {},
     "nuid": "49a11586-59ea-45fd-9fdf-9b9eb88c962e",
     "showTitle": false,
     "tableResultSettingsMap": {},
     "title": ""
    }
   },
   "outputs": [],
   "source": []
  }
 ],
 "metadata": {
  "application/vnd.databricks.v1+notebook": {
   "computePreferences": null,
   "dashboards": [],
   "environmentMetadata": {
    "base_environment": "",
    "client": "1"
   },
   "language": "sql",
   "notebookMetadata": {
    "pythonIndentUnit": 4
   },
   "notebookName": "1.create_raw_tables",
   "widgets": {}
  },
  "language_info": {
   "name": "sql"
  }
 },
 "nbformat": 4,
 "nbformat_minor": 0
}
