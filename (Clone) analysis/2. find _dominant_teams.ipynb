{
 "cells": [
  {
   "cell_type": "code",
   "execution_count": 0,
   "metadata": {
    "application/vnd.databricks.v1+cell": {
     "cellMetadata": {
      "byteLimit": 2048000,
      "rowLimit": 10000
     },
     "inputWidgets": {},
     "nuid": "336db8a4-cec3-4faa-b8ce-65aeb8462e88",
     "showTitle": false,
     "tableResultSettingsMap": {},
     "title": ""
    }
   },
   "outputs": [],
   "source": [
    "USE f1_processed;"
   ]
  },
  {
   "cell_type": "code",
   "execution_count": 0,
   "metadata": {
    "application/vnd.databricks.v1+cell": {
     "cellMetadata": {
      "byteLimit": 2048000,
      "rowLimit": 10000
     },
     "inputWidgets": {},
     "nuid": "2fd0758f-0184-4f36-95a7-68726d8012ef",
     "showTitle": false,
     "tableResultSettingsMap": {},
     "title": ""
    }
   },
   "outputs": [],
   "source": [
    "SELECT team_name,\n",
    "    COUNT(1) AS total_races,\n",
    "    SUM(calculated_points) AS total_points,\n",
    "    AVG(calculated_points) AS avg_points\n",
    "    FROM f1_presentation.calculated_race_results\n",
    "    -- WHERE race_year BETWEEN 2001 AND 2010\n",
    "  GROUP BY team_name\n",
    "  HAVING COUNT(1) >= 100\n",
    "  ORDER BY avg_points DESC"
   ]
  },
  {
   "cell_type": "code",
   "execution_count": 0,
   "metadata": {
    "application/vnd.databricks.v1+cell": {
     "cellMetadata": {
      "byteLimit": 2048000,
      "rowLimit": 10000
     },
     "inputWidgets": {},
     "nuid": "b9d56b8c-4fd4-485c-ab93-9732fc5c6d37",
     "showTitle": false,
     "tableResultSettingsMap": {},
     "title": ""
    }
   },
   "outputs": [],
   "source": [
    "SELECT team_name,\n",
    "    COUNT(1) AS total_races,\n",
    "    SUM(calculated_points) AS total_points,\n",
    "    AVG(calculated_points) AS avg_points\n",
    "    FROM f1_presentation.calculated_race_results\n",
    "    WHERE race_year BETWEEN 2010 AND 2020\n",
    "  GROUP BY team_name\n",
    "  HAVING COUNT(1) >= 100\n",
    "  ORDER BY avg_points DESC"
   ]
  },
  {
   "cell_type": "code",
   "execution_count": 0,
   "metadata": {
    "application/vnd.databricks.v1+cell": {
     "cellMetadata": {},
     "inputWidgets": {},
     "nuid": "521eaa5e-033d-41ba-8080-84051509c0f3",
     "showTitle": false,
     "tableResultSettingsMap": {},
     "title": ""
    }
   },
   "outputs": [],
   "source": []
  }
 ],
 "metadata": {
  "application/vnd.databricks.v1+notebook": {
   "computePreferences": null,
   "dashboards": [],
   "environmentMetadata": {
    "base_environment": "",
    "client": "1"
   },
   "language": "sql",
   "notebookMetadata": {
    "pythonIndentUnit": 4
   },
   "notebookName": "2. find _dominant_teams",
   "widgets": {}
  },
  "language_info": {
   "name": "sql"
  }
 },
 "nbformat": 4,
 "nbformat_minor": 0
}
