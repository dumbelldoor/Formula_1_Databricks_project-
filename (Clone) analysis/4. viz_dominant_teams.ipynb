{
 "cells": [
  {
   "cell_type": "code",
   "execution_count": 0,
   "metadata": {
    "application/vnd.databricks.v1+cell": {
     "cellMetadata": {
      "byteLimit": 2048000,
      "rowLimit": 10000
     },
     "inputWidgets": {},
     "nuid": "70b54b4d-ed8c-4965-959d-0418f495e43a",
     "showTitle": false,
     "tableResultSettingsMap": {},
     "title": ""
    }
   },
   "outputs": [],
   "source": [
    "%python\n",
    "html = \"\"\" <h1 style = \"color:Black; text-align:center;font-family:Courier New\" >Report on Dominant Fromula 1 Teams </h1>\"\"\"\n",
    "displayHTML(html)"
   ]
  },
  {
   "cell_type": "code",
   "execution_count": 0,
   "metadata": {
    "application/vnd.databricks.v1+cell": {
     "cellMetadata": {
      "byteLimit": 2048000,
      "rowLimit": 10000
     },
     "inputWidgets": {},
     "nuid": "d4111e46-77df-4594-b63d-16a5a0fbd7e5",
     "showTitle": false,
     "tableResultSettingsMap": {},
     "title": ""
    }
   },
   "outputs": [],
   "source": [
    "%sql\n",
    "CREATE OR REPLACE TEMP VIEW v_dominant_team AS\n",
    "SELECT\n",
    "  team_name,\n",
    "  COUNT(1) AS total_races,\n",
    "  SUM(calculated_points) AS total_points,\n",
    "  AVG(calculated_points) AS avg_points,\n",
    "  RANK() OVER(\n",
    "    ORDER BY\n",
    "      AVG(calculated_points) DESC\n",
    "  ) team_rank\n",
    "FROM\n",
    "  f1_presentation.calculated_race_results \n",
    "GROUP BY\n",
    "  team_name\n",
    "HAVING\n",
    "  COUNT(1) >= 50\n",
    "ORDER BY\n",
    "  avg_points DESC"
   ]
  },
  {
   "cell_type": "code",
   "execution_count": 0,
   "metadata": {
    "application/vnd.databricks.v1+cell": {
     "cellMetadata": {
      "byteLimit": 2048000,
      "rowLimit": 10000
     },
     "inputWidgets": {},
     "nuid": "d5867c27-f4b8-40f9-954d-45dd2acf3546",
     "showTitle": false,
     "tableResultSettingsMap": {},
     "title": ""
    }
   },
   "outputs": [
    {
     "output_type": "display_data",
     "data": {
      "text/plain": [
       "Databricks visualization. Run in Databricks to view."
      ]
     },
     "metadata": {
      "application/vnd.databricks.v1.subcommand+json": {
       "baseErrorDetails": null,
       "bindings": {},
       "collapsed": false,
       "command": "%sql WITH q AS (SELECT\n  race_year,\n  team_name,\n  COUNT(1) AS total_races,\n  SUM(calculated_points) AS total_points,\n  AVG(calculated_points) AS avg_points\nFROM\n  f1_presentation.calculated_race_results\nWHERE\n  team_name IN (\n    SELECT\n      team_name\n    FROM\n      v_dominant_team\n    WHERE\n      team_rank <= 10\n  )\nGROUP BY\n  race_year,\n  team_name\nORDER BY\n  race_year,\n  avg_points DESC) SELECT `race_year`,SUM(`avg_points`) `column_e9c5bc7a64`,`team_name` FROM q GROUP BY `race_year`,`team_name`",
       "commandTitle": "Visualization 1",
       "commandType": "auto",
       "commandVersion": 0,
       "commentThread": [],
       "commentsVisible": false,
       "contentSha256Hex": null,
       "customPlotOptions": {
        "redashChart": [
         {
          "key": "type",
          "value": "CHART"
         },
         {
          "key": "options",
          "value": {
           "alignYAxesAtZero": true,
           "coefficient": 1,
           "columnConfigurationMap": {
            "series": {
             "column": "team_name",
             "id": "column_e9c5bc7a66"
            },
            "x": {
             "column": "race_year",
             "id": "column_e9c5bc7a67"
            },
            "y": [
             {
              "column": "avg_points",
              "id": "column_e9c5bc7a64",
              "transform": "SUM"
             }
            ]
           },
           "dateTimeFormat": "DD/MM/YYYY HH:mm",
           "direction": {
            "type": "counterclockwise"
           },
           "error_y": {
            "type": "data",
            "visible": true
           },
           "globalSeriesType": "area",
           "isAggregationOn": true,
           "legend": {
            "traceorder": "normal"
           },
           "missingValuesAsZero": true,
           "numBins": 10,
           "numberFormat": "0,0.[00000]",
           "percentFormat": "0[.]00%",
           "series": {
            "error_y": {
             "type": "data",
             "visible": true
            },
            "stacking": null
           },
           "seriesOptions": {
            "column_e9c5bc7a56": {
             "type": "area",
             "yAxis": 0
            },
            "column_e9c5bc7a64": {
             "type": "area",
             "yAxis": 0
            }
           },
           "showDataLabels": false,
           "sizemode": "diameter",
           "sortX": true,
           "sortY": true,
           "swappedAxes": false,
           "textFormat": "",
           "useAggregationsUi": true,
           "valuesOptions": {},
           "version": 2,
           "xAxis": {
            "labels": {
             "enabled": true
            },
            "type": "-"
           },
           "yAxis": [
            {
             "type": "-"
            },
            {
             "opposite": true,
             "type": "-"
            }
           ]
          }
         }
        ]
       },
       "datasetPreviewNameToCmdIdMap": {},
       "diffDeletes": [],
       "diffInserts": [],
       "displayType": "redashChart",
       "error": null,
       "errorDetails": null,
       "errorSummary": null,
       "errorTraceType": null,
       "finishTime": 0,
       "globalVars": {},
       "guid": "",
       "height": "auto",
       "hideCommandCode": false,
       "hideCommandResult": false,
       "iPythonMetadata": null,
       "inputWidgets": {},
       "isLockedInExamMode": false,
       "latestUser": "a user",
       "latestUserId": null,
       "listResultMetadata": null,
       "metadata": {},
       "nuid": "916bb55f-a47c-47a9-b360-133a3dfc509c",
       "origId": 0,
       "parentHierarchy": [],
       "pivotAggregation": null,
       "pivotColumns": null,
       "position": 2.0,
       "resultDbfsErrorMessage": null,
       "resultDbfsStatus": "INLINED_IN_TREE",
       "results": null,
       "showCommandTitle": false,
       "startTime": 0,
       "state": "input",
       "streamStates": {},
       "subcommandOptions": {
        "queryPlan": {
         "groups": [
          {
           "column": "race_year",
           "type": "column"
          },
          {
           "column": "team_name",
           "type": "column"
          }
         ],
         "selects": [
          {
           "column": "race_year",
           "type": "column"
          },
          {
           "alias": "column_e9c5bc7a64",
           "args": [
            {
             "column": "avg_points",
             "type": "column"
            }
           ],
           "function": "SUM",
           "type": "function"
          },
          {
           "column": "team_name",
           "type": "column"
          }
         ]
        }
       },
       "submitTime": 0,
       "subtype": "tableResultSubCmd.visualization",
       "tableResultIndex": 0,
       "tableResultSettingsMap": {},
       "useConsistentColors": false,
       "version": "CommandV1",
       "width": "auto",
       "workflows": null,
       "xColumns": null,
       "yColumns": null
      }
     },
     "output_type": "display_data"
    }
   ],
   "source": [
    "SELECT\n",
    "  race_year,\n",
    "  team_name,\n",
    "  COUNT(1) AS total_races,\n",
    "  SUM(calculated_points) AS total_points,\n",
    "  AVG(calculated_points) AS avg_points\n",
    "FROM\n",
    "  f1_presentation.calculated_race_results\n",
    "WHERE\n",
    "  team_name IN (\n",
    "    SELECT\n",
    "      team_name\n",
    "    FROM\n",
    "      v_dominant_team\n",
    "    WHERE\n",
    "      team_rank <= 10\n",
    "  )\n",
    "GROUP BY\n",
    "  race_year,\n",
    "  team_name\n",
    "ORDER BY\n",
    "  race_year,\n",
    "  avg_points DESC"
   ]
  },
  {
   "cell_type": "code",
   "execution_count": 0,
   "metadata": {
    "application/vnd.databricks.v1+cell": {
     "cellMetadata": {
      "byteLimit": 2048000,
      "rowLimit": 10000
     },
     "inputWidgets": {},
     "nuid": "ba6ba28c-5a92-43f2-9d5d-5eb972c2f431",
     "showTitle": false,
     "tableResultSettingsMap": {},
     "title": ""
    }
   },
   "outputs": [
    {
     "output_type": "display_data",
     "data": {
      "text/plain": [
       "Databricks visualization. Run in Databricks to view."
      ]
     },
     "metadata": {
      "application/vnd.databricks.v1.subcommand+json": {
       "baseErrorDetails": null,
       "bindings": {},
       "collapsed": false,
       "command": "%sql WITH q AS (SELECT\n  race_year,\n  team_name,\n  COUNT(1) AS total_races,\n  SUM(calculated_points) AS total_points,\n  AVG(calculated_points) AS avg_points\nFROM\n  f1_presentation.calculated_race_results\nWHERE\n  team_name IN (\n    SELECT\n      team_name\n    FROM\n      v_dominant_team\n    WHERE\n      team_rank <= 10\n  )\nGROUP BY\n  race_year,\n  team_name\nORDER BY\n  race_year,\n  avg_points DESC) SELECT `race_year`,`team_name`,SUM(`avg_points`) `column_e9c5bc7a79` FROM q GROUP BY `race_year`,`team_name`",
       "commandTitle": "Visualization 1",
       "commandType": "auto",
       "commandVersion": 0,
       "commentThread": [],
       "commentsVisible": false,
       "contentSha256Hex": null,
       "customPlotOptions": {
        "redashChart": [
         {
          "key": "type",
          "value": "CHART"
         },
         {
          "key": "options",
          "value": {
           "alignYAxesAtZero": true,
           "coefficient": 1,
           "columnConfigurationMap": {
            "series": {
             "column": "team_name",
             "id": "column_e9c5bc7a77"
            },
            "x": {
             "column": "race_year",
             "id": "column_e9c5bc7a73"
            },
            "y": [
             {
              "column": "avg_points",
              "id": "column_e9c5bc7a79",
              "transform": "SUM"
             }
            ]
           },
           "dateTimeFormat": "DD/MM/YYYY HH:mm",
           "direction": {
            "type": "counterclockwise"
           },
           "error_y": {
            "type": "data",
            "visible": true
           },
           "globalSeriesType": "column",
           "isAggregationOn": true,
           "legend": {
            "traceorder": "normal"
           },
           "missingValuesAsZero": true,
           "numBins": 10,
           "numberFormat": "0,0.[00000]",
           "percentFormat": "0[.]00%",
           "series": {
            "error_y": {
             "type": "data",
             "visible": true
            },
            "stacking": null
           },
           "seriesOptions": {
            "column_e9c5bc7a76": {
             "type": "column",
             "yAxis": 0
            },
            "column_e9c5bc7a79": {
             "type": "column",
             "yAxis": 0
            }
           },
           "showDataLabels": false,
           "sizemode": "diameter",
           "sortX": true,
           "sortY": true,
           "swappedAxes": false,
           "textFormat": "",
           "useAggregationsUi": true,
           "valuesOptions": {},
           "version": 2,
           "xAxis": {
            "labels": {
             "enabled": true
            },
            "type": "-"
           },
           "yAxis": [
            {
             "type": "-"
            },
            {
             "opposite": true,
             "type": "-"
            }
           ]
          }
         }
        ]
       },
       "datasetPreviewNameToCmdIdMap": {},
       "diffDeletes": [],
       "diffInserts": [],
       "displayType": "redashChart",
       "error": null,
       "errorDetails": null,
       "errorSummary": null,
       "errorTraceType": null,
       "finishTime": 0,
       "globalVars": {},
       "guid": "",
       "height": "auto",
       "hideCommandCode": false,
       "hideCommandResult": false,
       "iPythonMetadata": null,
       "inputWidgets": {},
       "isLockedInExamMode": false,
       "latestUser": "a user",
       "latestUserId": null,
       "listResultMetadata": null,
       "metadata": {},
       "nuid": "d47091c9-af30-45c8-b3ff-803cea56bab7",
       "origId": 0,
       "parentHierarchy": [],
       "pivotAggregation": null,
       "pivotColumns": null,
       "position": 3.0,
       "resultDbfsErrorMessage": null,
       "resultDbfsStatus": "INLINED_IN_TREE",
       "results": null,
       "showCommandTitle": false,
       "startTime": 0,
       "state": "input",
       "streamStates": {},
       "subcommandOptions": {
        "queryPlan": {
         "groups": [
          {
           "column": "race_year",
           "type": "column"
          },
          {
           "column": "team_name",
           "type": "column"
          }
         ],
         "selects": [
          {
           "column": "race_year",
           "type": "column"
          },
          {
           "column": "team_name",
           "type": "column"
          },
          {
           "alias": "column_e9c5bc7a79",
           "args": [
            {
             "column": "avg_points",
             "type": "column"
            }
           ],
           "function": "SUM",
           "type": "function"
          }
         ]
        }
       },
       "submitTime": 0,
       "subtype": "tableResultSubCmd.visualization",
       "tableResultIndex": 0,
       "tableResultSettingsMap": {},
       "useConsistentColors": false,
       "version": "CommandV1",
       "width": "auto",
       "workflows": null,
       "xColumns": null,
       "yColumns": null
      }
     },
     "output_type": "display_data"
    }
   ],
   "source": [
    "SELECT\n",
    "  race_year,\n",
    "  team_name,\n",
    "  COUNT(1) AS total_races,\n",
    "  SUM(calculated_points) AS total_points,\n",
    "  AVG(calculated_points) AS avg_points\n",
    "FROM\n",
    "  f1_presentation.calculated_race_results\n",
    "WHERE\n",
    "  team_name IN (\n",
    "    SELECT\n",
    "      team_name\n",
    "    FROM\n",
    "      v_dominant_team\n",
    "    WHERE\n",
    "      team_rank <= 5\n",
    "  )\n",
    "GROUP BY\n",
    "  race_year,\n",
    "  team_name\n",
    "ORDER BY\n",
    "  race_year,\n",
    "  avg_points DESC"
   ]
  },
  {
   "cell_type": "code",
   "execution_count": 0,
   "metadata": {
    "application/vnd.databricks.v1+cell": {
     "cellMetadata": {},
     "inputWidgets": {},
     "nuid": "79fa2bdc-e45c-4c34-b9e4-aa4c9ed0aab2",
     "showTitle": false,
     "tableResultSettingsMap": {},
     "title": ""
    }
   },
   "outputs": [],
   "source": []
  }
 ],
 "metadata": {
  "application/vnd.databricks.v1+notebook": {
   "computePreferences": null,
   "dashboards": [
    {
     "elements": [
      {
       "dashboardResultIndex": null,
       "elementNUID": "916bb55f-a47c-47a9-b360-133a3dfc509c",
       "elementType": "command",
       "guid": "0d42f5ed-f7ee-4fa9-98c8-455ed787060c",
       "options": null,
       "position": {
        "height": 6,
        "width": 24,
        "x": 0,
        "y": 2,
        "z": null
       },
       "resultIndex": null
      },
      {
       "dashboardResultIndex": 0,
       "elementNUID": "70b54b4d-ed8c-4965-959d-0418f495e43a",
       "elementType": "command",
       "guid": "66e5458b-64b3-4701-b1e9-01e15e4498f8",
       "options": null,
       "position": {
        "height": 2,
        "width": 24,
        "x": 0,
        "y": 0,
        "z": null
       },
       "resultIndex": null
      },
      {
       "dashboardResultIndex": null,
       "elementNUID": "d47091c9-af30-45c8-b3ff-803cea56bab7",
       "elementType": "command",
       "guid": "714620e2-aca5-4ef0-a373-49ee804b528d",
       "options": null,
       "position": {
        "height": 6,
        "width": 24,
        "x": 0,
        "y": 8,
        "z": null
       },
       "resultIndex": null
      }
     ],
     "globalVars": {},
     "guid": "",
     "layoutOption": {
      "grid": true,
      "stack": true
     },
     "nuid": "59c7c344-226f-4eab-9638-1dbeb18aa966",
     "origId": 4167326232603080,
     "title": "Dominant Teams",
     "version": "DashboardViewV1",
     "width": 1600
    }
   ],
   "environmentMetadata": {
    "base_environment": "",
    "client": "1"
   },
   "language": "sql",
   "notebookMetadata": {
    "pythonIndentUnit": 4
   },
   "notebookName": "4. viz_dominant_teams",
   "widgets": {}
  },
  "language_info": {
   "name": "sql"
  }
 },
 "nbformat": 4,
 "nbformat_minor": 0
}
